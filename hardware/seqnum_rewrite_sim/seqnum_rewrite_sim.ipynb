{
 "cells": [
  {
   "cell_type": "markdown",
   "id": "420fe177-bf78-485d-8441-3f5f0ded8ec6",
   "metadata": {},
   "source": [
    "## Sequence number rewriting"
   ]
  },
  {
   "cell_type": "code",
   "execution_count": null,
   "id": "b752c785-cafb-489c-8b95-1a37e878af1b",
   "metadata": {
    "execution": {
     "iopub.execute_input": "2025-06-25T05:46:40.874744Z",
     "iopub.status.busy": "2025-06-25T05:46:40.874348Z",
     "iopub.status.idle": "2025-06-25T05:46:45.262465Z",
     "shell.execute_reply": "2025-06-25T05:46:45.261726Z",
     "shell.execute_reply.started": "2025-06-25T05:46:40.874722Z"
    },
    "slideshow": {
     "slide_type": ""
    },
    "tags": []
   },
   "outputs": [],
   "source": [
    "import sys\n",
    "sys.path.insert(0, \"../ext\")\n",
    "import plot_utils as pu\n",
    "import random\n",
    "from sys import exit\n",
    "from itertools import batched\n",
    "from collections import Counter"
   ]
  },
  {
   "cell_type": "markdown",
   "id": "6ad6c172-31fc-416f-82b3-bd11d4861ec7",
   "metadata": {},
   "source": [
    "### Generate packets for a flow with the semantics of frames and video quality layers"
   ]
  },
  {
   "cell_type": "code",
   "execution_count": null,
   "id": "d1479df6-bcd5-469d-86e6-7a53c904b66d",
   "metadata": {
    "execution": {
     "iopub.execute_input": "2025-06-25T05:46:45.264271Z",
     "iopub.status.busy": "2025-06-25T05:46:45.263717Z",
     "iopub.status.idle": "2025-06-25T05:46:45.269107Z",
     "shell.execute_reply": "2025-06-25T05:46:45.268231Z",
     "shell.execute_reply.started": "2025-06-25T05:46:45.264250Z"
    },
    "tags": []
   },
   "outputs": [],
   "source": [
    "PACKETS_COUNT = 10000\n",
    "MIN_PACKETS_PER_FRAME = 3\n",
    "MAX_PACKETS_PER_FRAME = 7\n",
    "NUM_LAYERS = 2"
   ]
  },
  {
   "cell_type": "code",
   "execution_count": null,
   "id": "7794dd25-8895-4c6f-bbd1-a881694eeacb",
   "metadata": {
    "execution": {
     "iopub.execute_input": "2025-06-25T05:46:56.291133Z",
     "iopub.status.busy": "2025-06-25T05:46:56.290814Z",
     "iopub.status.idle": "2025-06-25T05:46:56.308463Z",
     "shell.execute_reply": "2025-06-25T05:46:56.307774Z",
     "shell.execute_reply.started": "2025-06-25T05:46:56.291107Z"
    },
    "tags": []
   },
   "outputs": [],
   "source": [
    "random.seed(42)\n",
    "START_ORIG_SEQNUM = random.randint(1, 1000)\n",
    "frames_at_source = []\n",
    "current_packet_count = 0\n",
    "group_count = 1\n",
    "frame_count = 1\n",
    "\n",
    "# Packet format: [frame_group_number, frame_number, layer_number, sequence_number, packet_start_interm_end_mark, if lost then False else True]\n",
    "\n",
    "while True:\n",
    "    for layer in range(1, NUM_LAYERS+1):\n",
    "        frame = []\n",
    "        packet_count_in_frame = random.randint(MIN_PACKETS_PER_FRAME, MAX_PACKETS_PER_FRAME)\n",
    "        for seqnum in range(current_packet_count, current_packet_count+packet_count_in_frame):\n",
    "            frame.append([group_count, frame_count, layer, START_ORIG_SEQNUM+seqnum, 2, True])\n",
    "        frame[0][-2] = 1\n",
    "        frame[-1][-2] = 3\n",
    "        current_packet_count += packet_count_in_frame\n",
    "        frames_at_source.append(frame)\n",
    "        frame_count += 1\n",
    "    group_count += 1\n",
    "    if current_packet_count > PACKETS_COUNT:\n",
    "        break"
   ]
  },
  {
   "cell_type": "code",
   "execution_count": null,
   "id": "aac68ea1-67da-4db1-9bbd-d20ca2e22639",
   "metadata": {
    "execution": {
     "iopub.execute_input": "2025-06-25T05:46:57.877563Z",
     "iopub.status.busy": "2025-06-25T05:46:57.877276Z",
     "iopub.status.idle": "2025-06-25T05:46:57.923908Z",
     "shell.execute_reply": "2025-06-25T05:46:57.922630Z",
     "shell.execute_reply.started": "2025-06-25T05:46:57.877542Z"
    },
    "scrolled": true,
    "tags": []
   },
   "outputs": [],
   "source": [
    "print(\"Groups:\")\n",
    "for gr in batched(frames_at_source, 2):\n",
    "    print(gr)"
   ]
  },
  {
   "cell_type": "code",
   "execution_count": null,
   "id": "8ff12635-4821-41c2-a86e-e29383743412",
   "metadata": {
    "execution": {
     "iopub.execute_input": "2025-06-25T05:46:59.897646Z",
     "iopub.status.busy": "2025-06-25T05:46:59.897228Z",
     "iopub.status.idle": "2025-06-25T05:46:59.902084Z",
     "shell.execute_reply": "2025-06-25T05:46:59.901342Z",
     "shell.execute_reply.started": "2025-06-25T05:46:59.897616Z"
    }
   },
   "outputs": [],
   "source": [
    "# Convert frames to packets\n",
    "packets_at_source = []\n",
    "for frame in frames_at_source:\n",
    "    packets_at_source += frame"
   ]
  },
  {
   "cell_type": "code",
   "execution_count": null,
   "id": "c109a495-6094-4ee1-a29e-e707ee37e8d8",
   "metadata": {
    "execution": {
     "iopub.execute_input": "2025-06-25T05:47:01.465040Z",
     "iopub.status.busy": "2025-06-25T05:47:01.464678Z",
     "iopub.status.idle": "2025-06-25T05:47:01.721460Z",
     "shell.execute_reply": "2025-06-25T05:47:01.720773Z",
     "shell.execute_reply.started": "2025-06-25T05:47:01.465015Z"
    },
    "scrolled": true
   },
   "outputs": [],
   "source": [
    "print(\"Packets at source:\\n\")\n",
    "for p in packets_at_source:\n",
    "    print(p)"
   ]
  },
  {
   "cell_type": "markdown",
   "id": "d8fc3ede-ae35-4c68-bacd-cabb81e2a0cc",
   "metadata": {},
   "source": [
    "### Drop quality layers and rewrite sequence numbers to mask it"
   ]
  },
  {
   "cell_type": "code",
   "execution_count": null,
   "id": "ee8bab86-f08d-457a-a78e-da04333633d1",
   "metadata": {
    "execution": {
     "iopub.execute_input": "2025-06-25T05:47:03.264094Z",
     "iopub.status.busy": "2025-06-25T05:47:03.263745Z",
     "iopub.status.idle": "2025-06-25T05:47:03.267594Z",
     "shell.execute_reply": "2025-06-25T05:47:03.266824Z",
     "shell.execute_reply.started": "2025-06-25T05:47:03.264070Z"
    }
   },
   "outputs": [],
   "source": [
    "DROP_LAYERS = [2]"
   ]
  },
  {
   "cell_type": "code",
   "execution_count": null,
   "id": "078214ad-2dab-46df-a4ce-23f02a3df155",
   "metadata": {
    "execution": {
     "iopub.execute_input": "2025-06-25T05:47:04.118428Z",
     "iopub.status.busy": "2025-06-25T05:47:04.118150Z",
     "iopub.status.idle": "2025-06-25T05:47:04.129132Z",
     "shell.execute_reply": "2025-06-25T05:47:04.128573Z",
     "shell.execute_reply.started": "2025-06-25T05:47:04.118407Z"
    }
   },
   "outputs": [],
   "source": [
    "packets_at_source_baseline = []\n",
    "drop_count_at_source_baseline = 0\n",
    "\n",
    "for gn, fn, ln, sn, mk, pr in packets_at_source:\n",
    "    if ln in DROP_LAYERS:\n",
    "        drop_count_at_source_baseline += 1\n",
    "        packets_at_source_baseline.append([gn, fn, ln, sn, -1, mk, pr])\n",
    "    else:\n",
    "        packets_at_source_baseline.append([gn, fn, ln, sn, sn-drop_count_at_source_baseline, mk, pr])"
   ]
  },
  {
   "cell_type": "code",
   "execution_count": null,
   "id": "8c8b7906-b84a-402f-ba95-68edc98a0530",
   "metadata": {
    "execution": {
     "iopub.execute_input": "2025-06-25T05:47:07.953281Z",
     "iopub.status.busy": "2025-06-25T05:47:07.952959Z",
     "iopub.status.idle": "2025-06-25T05:47:08.220415Z",
     "shell.execute_reply": "2025-06-25T05:47:08.219711Z",
     "shell.execute_reply.started": "2025-06-25T05:47:07.953255Z"
    },
    "scrolled": true
   },
   "outputs": [],
   "source": [
    "print(\"Packets at source baseline:\\n\")\n",
    "for p in packets_at_source_baseline:\n",
    "    print(p)"
   ]
  },
  {
   "cell_type": "markdown",
   "id": "1aa61b83-3f46-4410-9998-19e8dccbcdd3",
   "metadata": {},
   "source": [
    "### Simulate loss and reordering of packets"
   ]
  },
  {
   "cell_type": "code",
   "execution_count": null,
   "id": "f5d19904-b504-44ff-949f-9599ce54c023",
   "metadata": {
    "execution": {
     "iopub.execute_input": "2025-06-25T05:47:19.211244Z",
     "iopub.status.busy": "2025-06-25T05:47:19.210838Z",
     "iopub.status.idle": "2025-06-25T05:47:19.219810Z",
     "shell.execute_reply": "2025-06-25T05:47:19.219000Z",
     "shell.execute_reply.started": "2025-06-25T05:47:19.211212Z"
    },
    "slideshow": {
     "slide_type": ""
    },
    "tags": []
   },
   "outputs": [],
   "source": [
    "def simulate_loss_and_reordering(param_loss_prob, param_reorder_prob, param_reorder_max_skip):\n",
    "\n",
    "    if param_loss_prob + param_reorder_prob > 1.0:\n",
    "        print(\"Error: Loss + reordering prob exceeds 1.0\")\n",
    "        exit(0)\n",
    "\n",
    "    random.seed(42)\n",
    "    packets_in = []\n",
    "    packets_lost = []\n",
    "    packets_reordered = []\n",
    "    \n",
    "    reorder_skip_set = False\n",
    "    reorder_skip_count = 0\n",
    "    \n",
    "    for gn, fn, ln, sn, rn, mk, pr in packets_at_source_baseline:\n",
    "    \n",
    "        # Handle reordering\n",
    "        if reorder_skip_set:\n",
    "            packets_reordered.append([])\n",
    "            reorder_skip_set = False\n",
    "        if reorder_skip_count > 0:\n",
    "            packets_reordered[-1].append([gn, fn, ln, sn, rn, mk, pr])\n",
    "            packets_in.insert(len(packets_in)-1, [gn, fn, ln, sn, rn, mk, pr])\n",
    "            reorder_skip_count -= 1\n",
    "        else:\n",
    "            dice_roll = random.randint(1, 100)/100\n",
    "            if dice_roll <= param_loss_prob:\n",
    "                packets_lost.append([gn, fn, ln, sn, rn, mk, pr])\n",
    "                packets_in.append([gn, fn, ln, sn, rn, mk, False])\n",
    "            elif dice_roll > param_loss_prob and dice_roll <= (param_loss_prob + param_reorder_prob):\n",
    "                reorder_skip_set = True\n",
    "                reorder_skip_count = random.randint(1, param_reorder_max_skip)\n",
    "                packets_in.append([gn, fn, ln, sn, rn, mk, pr])\n",
    "            else:\n",
    "                packets_in.append([gn, fn, ln, sn, rn, mk, pr])\n",
    "\n",
    "    print(f\"Desired loss rate: {param_loss_prob}, Actual loss rate: {round(len(packets_lost)/PACKETS_COUNT, 2)}\")\n",
    "    print(f\"Desired reordering rate: {param_reorder_prob}, Actual reordering rate: {round(len(packets_reordered)/PACKETS_COUNT, 2)}\")\n",
    "\n",
    "    return packets_in, packets_lost, packets_reordered"
   ]
  },
  {
   "cell_type": "markdown",
   "id": "e535e1b2-2fe0-4efa-9602-95a35cb44da4",
   "metadata": {
    "execution": {
     "iopub.execute_input": "2024-03-21T09:50:51.765843Z",
     "iopub.status.busy": "2024-03-21T09:50:51.764613Z",
     "iopub.status.idle": "2024-03-21T09:50:51.773001Z",
     "shell.execute_reply": "2024-03-21T09:50:51.772217Z",
     "shell.execute_reply.started": "2024-03-21T09:50:51.765790Z"
    }
   },
   "source": [
    "### Simulate sequence number rewriting solution"
   ]
  },
  {
   "cell_type": "code",
   "execution_count": null,
   "id": "e972960c-ed91-42d0-b661-ed92423765b7",
   "metadata": {
    "execution": {
     "iopub.execute_input": "2025-06-25T05:47:32.388678Z",
     "iopub.status.busy": "2025-06-25T05:47:32.388003Z",
     "iopub.status.idle": "2025-06-25T05:47:32.392810Z",
     "shell.execute_reply": "2025-06-25T05:47:32.392053Z",
     "shell.execute_reply.started": "2025-06-25T05:47:32.388652Z"
    }
   },
   "outputs": [],
   "source": [
    "# Solution types:\n",
    "# 0 = Only maintain cumulative intentional drop count (D)\n",
    "# 1 = Perfect solution, involves buffering packets when unsure\n",
    "# 2 = Maintain invariants\n",
    "# 3 = Frame-aware, data plane-aware\n",
    "# 4 = Exactly what the Tofino sees (sees no suppressed packet)\n",
    "# 5 = S-LR (same as 4)\n",
    "# 6 = S-LM"
   ]
  },
  {
   "cell_type": "code",
   "execution_count": null,
   "id": "bb75c420-dae0-4606-815b-7224ca4c8c87",
   "metadata": {
    "execution": {
     "iopub.execute_input": "2025-06-25T05:47:32.920287Z",
     "iopub.status.busy": "2025-06-25T05:47:32.919916Z",
     "iopub.status.idle": "2025-06-25T05:47:32.925366Z",
     "shell.execute_reply": "2025-06-25T05:47:32.924513Z",
     "shell.execute_reply.started": "2025-06-25T05:47:32.920258Z"
    }
   },
   "outputs": [],
   "source": [
    "def solution_type0(packets_in):\n",
    "    \n",
    "    packets_out_ = []\n",
    "    drop_count = 0\n",
    "    \n",
    "    for gn, fn, ln, sn, rn, mk, pr in packets_in:\n",
    "        if not pr:\n",
    "            continue\n",
    "        if ln in DROP_LAYERS:\n",
    "            drop_count += 1\n",
    "            packets_out_.append([gn, fn, ln, sn, rn, -1, mk])\n",
    "        else:\n",
    "            packets_out_.append([gn, fn, ln, sn, rn, sn-drop_count, mk])\n",
    "\n",
    "    return packets_out"
   ]
  },
  {
   "cell_type": "code",
   "execution_count": null,
   "id": "f925025a-af08-433a-90b4-798c21cb74ae",
   "metadata": {
    "execution": {
     "iopub.execute_input": "2025-06-25T05:47:34.385444Z",
     "iopub.status.busy": "2025-06-25T05:47:34.385010Z",
     "iopub.status.idle": "2025-06-25T05:47:34.398462Z",
     "shell.execute_reply": "2025-06-25T05:47:34.397712Z",
     "shell.execute_reply.started": "2025-06-25T05:47:34.385418Z"
    }
   },
   "outputs": [],
   "source": [
    "def solution_type1(packets_in):\n",
    "    \n",
    "    packets_out_ = []\n",
    "    drop_counts = []\n",
    "    seq_space = []\n",
    "    frame_types = []\n",
    "    i = 0\n",
    "\n",
    "    for gn, fn, ln, sn, rn, mk, pr in packets_in:\n",
    "\n",
    "        if not pr:\n",
    "            continue\n",
    "\n",
    "        found = False\n",
    "        where = -1 # 0 = left, 1 = in, 2 = right\n",
    "        continuous_left = False\n",
    "        continuous_right = False\n",
    "        for i, seq_range in enumerate(seq_space):\n",
    "            if sn < seq_range[0]:\n",
    "                found = True\n",
    "                where = 0\n",
    "                if sn+1 == seq_range[0]:\n",
    "                    continuous_left = True\n",
    "                break\n",
    "            elif sn >= seq_range[0] and sn <= seq_range[1]:\n",
    "                found = True\n",
    "                where = 1\n",
    "                break\n",
    "            elif sn > seq_range[1]:\n",
    "                found = True\n",
    "                where = 2\n",
    "                if seq_range[1]+1 == sn:\n",
    "                    continuous_right = True\n",
    "\n",
    "        cumulative_drop_count = 0\n",
    "        stop_index = i\n",
    "        if where == 2:\n",
    "            stop_index += 1\n",
    "\n",
    "        # Accumulate known drop counts\n",
    "        for j in range(stop_index):\n",
    "            cumulative_drop_count += drop_counts[j]\n",
    "\n",
    "        # Figure out drop counts for missing packets\n",
    "        last_frame_type = None\n",
    "        for j in range(stop_index):\n",
    "            next_frame_type = frame_types[j][0]\n",
    "            # Has frame changed\n",
    "            if last_frame_type is None or last_frame_type[0] != next_frame_type[0]:\n",
    "                pass\n",
    "            else:\n",
    "                pass\n",
    "            last_frame_type = next_frame_type\n",
    "        \n",
    "        if found is False:\n",
    "            seq_space.append([sn, sn])\n",
    "            drop_counts.append(0)\n",
    "            frame_types.append([(fn, ln, mk), (fn, ln, mk)])\n",
    "        else:\n",
    "            if where == 0 and continuous_left and continuous_right:\n",
    "                seq_space = seq_space[:i-1] + [[seq_space[i-1][0], seq_space[i][1]]] + seq_space[i+1:]\n",
    "                drop_counts = drop_counts[:i-1] + [drop_counts[i-1] + drop_counts[i]] + drop_counts[i+1:]\n",
    "                frame_types = frame_types[:i-1] + [[frame_types[i-1][0], frame_types[i][1]]] + frame_types[i+1:]\n",
    "            elif where == 0 and continuous_left:\n",
    "                seq_space[i][0] = sn\n",
    "                frame_types[i][0] = (fn, ln, mk)\n",
    "            elif where == 0 and continuous_right:\n",
    "                seq_space[i-1][1] = sn\n",
    "                frame_types[i-1][1] = (fn, ln, mk)\n",
    "            elif where == 0:\n",
    "                seq_space = seq_space[:i] + [[sn, sn]] + seq_space[i:]\n",
    "                drop_counts = drop_counts[:i] + [0] + drop_counts[i:]\n",
    "                frame_types = frame_types[:i] + [[(fn, ln, mk), (fn, ln, mk)]] + frame_types[i:]\n",
    "            elif where == 1:\n",
    "                print(f\"Packet: {[gn, fn, ln, sn, rn, mk]}, Retransmission\")\n",
    "            elif where == 2 and continuous_right:\n",
    "                seq_space[-1][1] = sn\n",
    "                frame_types[-1][1] = (fn, ln, mk)\n",
    "            elif where == 2:\n",
    "                seq_space.append([sn ,sn])\n",
    "                drop_counts.append(0)\n",
    "                frame_types.append([(fn, ln, mk), (fn, ln, mk)])\n",
    "\n",
    "        # Check if we know the layer of the hole\n",
    "        if where == 0 and not continuous_left:\n",
    "            pass\n",
    "        elif where == 2 and not continuous_right:\n",
    "            pass\n",
    "        \n",
    "        if ln in DROP_LAYERS:\n",
    "            for i in range(len(seq_space)):\n",
    "                if sn >= seq_space[i][0] and sn <= seq_space[i][1]:\n",
    "                    drop_counts[i] += 1\n",
    "                    break\n",
    "            packet_out_ = [gn, fn, ln, sn, rn, -1, mk]\n",
    "        else:\n",
    "            packet_out_ = [gn, fn, ln, sn, rn, sn-cumulative_drop_count, mk]\n",
    "        packets_out_.append(packet_out_)\n",
    "\n",
    "        print(f\"Packet: {packet_out_}, sequence space: {seq_space}, drop counts: {drop_counts}, frame types: {frame_types}\")\n",
    "\n",
    "    return packets_out_"
   ]
  },
  {
   "cell_type": "code",
   "execution_count": null,
   "id": "2c68dca5-ac7b-4993-b0f8-799b8925e44a",
   "metadata": {
    "execution": {
     "iopub.execute_input": "2025-06-25T05:47:36.081335Z",
     "iopub.status.busy": "2025-06-25T05:47:36.081018Z",
     "iopub.status.idle": "2025-06-25T05:47:36.088029Z",
     "shell.execute_reply": "2025-06-25T05:47:36.087301Z",
     "shell.execute_reply.started": "2025-06-25T05:47:36.081312Z"
    }
   },
   "outputs": [],
   "source": [
    "def solution_type2(packets_in):\n",
    "    \n",
    "    packets_out_ = []\n",
    "    max_sn = 0\n",
    "    drop_count = 0\n",
    "    \n",
    "    for gn, fn, ln, sn, rn, mk, pr in packets_in:\n",
    "\n",
    "        if not pr:\n",
    "            continue\n",
    "        \n",
    "        if max_sn == 0 and sn > 0:\n",
    "            max_sn = sn - 1\n",
    "\n",
    "        if sn == max_sn + 1:\n",
    "            # Regular case: Continuous sequence number\n",
    "            if ln in DROP_LAYERS:\n",
    "                packet_out_ = [gn, fn, ln, sn, rn, -1, mk]\n",
    "                drop_count += 1\n",
    "            else:\n",
    "                srn = sn - drop_count\n",
    "                packet_out_ = [gn, fn, ln, sn, rn, srn, mk]\n",
    "            max_sn = sn\n",
    "            \n",
    "        elif sn > max_sn + 1:\n",
    "            # Skips sequence numbers\n",
    "            if ln in DROP_LAYERS:\n",
    "                packet_out_ = [gn, fn, ln, sn, rn, -1, mk]\n",
    "            else:\n",
    "                srn = sn - drop_count\n",
    "                packet_out_ = [gn, fn, ln, sn, rn, srn, mk]\n",
    "            max_sn = sn\n",
    "            \n",
    "        elif sn <= max_sn:\n",
    "            # Filling a hole\n",
    "            if ln in DROP_LAYERS:\n",
    "                packet_out_ = [gn, fn, ln, sn, rn, -1, mk]\n",
    "            else:\n",
    "                srn = max_sn - drop_count - 1\n",
    "                packet_out_ = [gn, fn, ln, sn, rn, srn, mk]\n",
    "        \n",
    "        packets_out_.append(packet_out_)\n",
    "        \n",
    "        print(f\"Packet out: {packet_out_}, drop count: {drop_count}, max sequence number: {max_sn}\")\n",
    "                \n",
    "    return packets_out_"
   ]
  },
  {
   "cell_type": "code",
   "execution_count": null,
   "id": "5da6f522-2564-4924-946d-400b06b339a3",
   "metadata": {
    "execution": {
     "iopub.execute_input": "2025-06-25T05:47:38.129796Z",
     "iopub.status.busy": "2025-06-25T05:47:38.129183Z",
     "iopub.status.idle": "2025-06-25T05:47:38.143234Z",
     "shell.execute_reply": "2025-06-25T05:47:38.142493Z",
     "shell.execute_reply.started": "2025-06-25T05:47:38.129771Z"
    }
   },
   "outputs": [],
   "source": [
    "def solution_type3(packets_in, drop_when_unsure=False):\n",
    "    \n",
    "    packets_out_ = []\n",
    "    drop_count = 0\n",
    "    max_frame_number = 0\n",
    "    max_frame_layer = 0\n",
    "    max_frame_start_sn = 0\n",
    "    max_frame_max_sn = 0\n",
    "    max_frame_end_seen = False\n",
    "    max_dropped_frame = 0\n",
    "    SKIP_CADENCE = 2\n",
    "    \n",
    "    for gn, fn, ln, sn, rn, mk, pr in packets_in:\n",
    "\n",
    "        if not pr:\n",
    "            packet_out_ = [gn, fn, ln, sn, rn, -1, mk, False]\n",
    "            packets_out_.append(packet_out_)\n",
    "            continue\n",
    "\n",
    "        # First packet\n",
    "        if fn > 1 and max_frame_number == 0:\n",
    "            max_frame_number = fn\n",
    "            max_frame_layer = ln\n",
    "            if mk == 1:\n",
    "                max_frame_start_sn = sn\n",
    "            else:\n",
    "                # If the first packet is not the starting packet of a frame, assume the previous packet was\n",
    "                max_frame_start_sn = sn - 1\n",
    "            if mk == 3:\n",
    "                max_frame_max_sn = sn\n",
    "            else:\n",
    "                max_frame_max_sn = sn + 1\n",
    "            \n",
    "            if ln not in DROP_LAYERS:\n",
    "                srn = sn\n",
    "            else:\n",
    "                srn = -1\n",
    "                if mk == 3:\n",
    "                    drop_count = 2\n",
    "            if mk == 3:\n",
    "                max_frame_end_seen = True\n",
    "\n",
    "        # In the same frame\n",
    "        elif fn == max_frame_number:\n",
    "            if mk == 1:\n",
    "                max_frame_start_sn = sn\n",
    "            elif sn == max_frame_start_sn:\n",
    "                # This packet is not the starting packet but is set equal to max starting sequence number\n",
    "                max_frame_start_sn = sn - 1\n",
    "            if mk == 3:\n",
    "                max_frame_max_sn = sn\n",
    "            elif not max_frame_end_seen:\n",
    "                max_frame_max_sn = sn + 1\n",
    "            # print(f\"max_frame_number: {max_frame}, max_frame_start_sn: {max_frame_start_sn}, max_frame_max_sn: {max_frame_max_sn}\")\n",
    "                \n",
    "            if ln not in DROP_LAYERS:\n",
    "                srn = sn - drop_count\n",
    "            else:\n",
    "                srn = -1\n",
    "                if mk == 3:\n",
    "                    drop_count += sn - max_frame_start_sn + 1\n",
    "                    # print(f\"Here:: sn - max_frame_start_sn + 1 = {sn - max_frame_start_sn + 1}\")\n",
    "            if mk == 3:\n",
    "                max_frame_end_seen = True\n",
    "\n",
    "        # Moved to the next consecutive frame\n",
    "        elif fn == max_frame_number + 1:\n",
    "            max_frame_number = fn\n",
    "            if max_frame_layer in DROP_LAYERS and not max_frame_end_seen:\n",
    "                # Last frame was supposed to be dropped but the last packet wasn't seen and so drop count wasn't adjusted\n",
    "                if mk == 1:\n",
    "                    drop_count += sn - max_frame_start_sn\n",
    "                else:\n",
    "                    # print(f\"max_frame_max_sn: {max_frame_max_sn}, sn-2: {sn-2}, max_frame_start_sn: {max_frame_start_sn}\")\n",
    "                    # drop_count += max(max_frame_max_sn, sn-2) - max_frame_start_sn + 1\n",
    "                    drop_count += 3\n",
    "            elif ln in DROP_LAYERS and mk == 3:\n",
    "                if max_frame_end_seen:\n",
    "                    drop_count += sn - max_frame_max_sn\n",
    "                else:\n",
    "                    drop_count += 2\n",
    "                \n",
    "            max_frame_layer = ln\n",
    "                \n",
    "            if mk == 1:\n",
    "                max_frame_start_sn = sn\n",
    "            else:\n",
    "                max_frame_start_sn = sn - 1\n",
    "            if mk == 3:\n",
    "                max_frame_max_sn = sn\n",
    "            else:\n",
    "                max_frame_max_sn = sn + 1\n",
    "\n",
    "            if ln not in DROP_LAYERS:\n",
    "                srn = sn - drop_count\n",
    "            else:\n",
    "                srn = -1\n",
    "            if mk == 3:\n",
    "                max_frame_end_seen = True\n",
    "            else:\n",
    "                max_frame_end_seen = False\n",
    "\n",
    "        # Skipped to a future frame\n",
    "        elif fn > max_frame_number + 1:\n",
    "\n",
    "            ## OPTIMIZATION: If a skipped frame was supposed to be dropped and we don't have any other information, increment drop count by 2 packets\n",
    "            if max_frame_layer not in DROP_LAYERS and ln not in DROP_LAYERS and fn - max_frame_number + 1 >= SKIP_CADENCE:\n",
    "                drop_count += 2\n",
    "\n",
    "            max_frame_number = fn\n",
    "\n",
    "            ## OPTIMIZATION: Last frame was supposed to be dropped but the last packet wasn't seen and so drop count wasn't adjusted\n",
    "            if max_frame_layer in DROP_LAYERS and not max_frame_end_seen:\n",
    "                drop_count += max_frame_max_sn - max_frame_start_sn\n",
    "\n",
    "            max_frame_layer = ln\n",
    "\n",
    "            if mk == 1:\n",
    "                max_frame_start_sn = sn\n",
    "            elif sn == max_frame_start_sn:\n",
    "                max_frame_start_sn = sn - 1\n",
    "            elif mk == 2:\n",
    "                max_frame_start_sn = sn - 1\n",
    "            elif mk == 3:\n",
    "                max_frame_start_sn = sn - 2\n",
    "                \n",
    "            if mk == 3:\n",
    "                max_frame_max_sn = sn\n",
    "            else:\n",
    "                max_frame_max_sn = sn + 1\n",
    "\n",
    "            if ln not in DROP_LAYERS:\n",
    "                srn = sn - drop_count\n",
    "            else:\n",
    "                srn = -1\n",
    "                if mk == 3:\n",
    "                    drop_count += 2\n",
    "            if mk == 3:\n",
    "                max_frame_end_seen = True\n",
    "            else:\n",
    "                max_frame_end_seen = False\n",
    "\n",
    "        # Skipped to a past frame\n",
    "        elif fn < max_frame_number:\n",
    "            if ln in DROP_LAYERS:\n",
    "                srn = -1\n",
    "            elif fn + 1 == max_frame_number:\n",
    "                # Immediate next frame is the max seen\n",
    "                if max_frame_layer not in DROP_LAYERS:\n",
    "                    # No adjustments have been made to drop count since next frame is not a dropped layer \n",
    "                    srn = sn - drop_count\n",
    "                elif not max_frame_end_seen:\n",
    "                    # No adjustments have been made to drop count since next frame isn't over yet\n",
    "                    srn = sn - drop_count\n",
    "                else:\n",
    "                    # Drop count needs to be adjusted before application\n",
    "                    srn = sn - (drop_count - (max_frame_max_sn - max_frame_start_sn + 1))\n",
    "                    # print(f\"Here2: drop_count - (max_frame_max_sn - max_frame_start_sn + 1) = {drop_count - (max_frame_max_sn - max_frame_start_sn + 1)}\")\n",
    "            elif fn > max_dropped_frame:\n",
    "                # Can trust drop count because it hasn't been adjusted after this frame\n",
    "                srn = sn - drop_count\n",
    "            else:\n",
    "                # We don't know anymore\n",
    "                if drop_when_unsure:\n",
    "                    srn = -1\n",
    "                else:\n",
    "                    srn = sn - drop_count\n",
    "\n",
    "        # Adjust max dropped frame number\n",
    "        if ln in DROP_LAYERS:\n",
    "            max_dropped_frame = max(fn, max_dropped_frame)\n",
    "        \n",
    "        packet_out_ = [gn, fn, ln, sn, rn, srn, mk, True]\n",
    "        packets_out_.append(packet_out_)\n",
    "        \n",
    "        # print(f\"Packet out: {packet_out_}, drop count: {drop_count}, max frame: {max_frame}, max frame layer: {max_frame_layer},\"\n",
    "        #       + f\" max frame start: {max_frame_start_sn}, max frame max: {max_frame_max_sn}, max frame end seen: {max_frame_end_seen}\")\n",
    "                \n",
    "    return packets_out_"
   ]
  },
  {
   "cell_type": "markdown",
   "id": "d13d9d57-0e27-4d5b-ba8b-0f84990b36cc",
   "metadata": {},
   "source": [
    "## Hardware-amenable algorithms"
   ]
  },
  {
   "cell_type": "markdown",
   "id": "17380edd-b60d-4ee4-8a8b-baabc7427a92",
   "metadata": {},
   "source": [
    "### Stateless"
   ]
  },
  {
   "cell_type": "code",
   "execution_count": null,
   "id": "48c747c8-cad3-47b9-9114-559d6fc7512f",
   "metadata": {},
   "outputs": [],
   "source": [
    "# Packet format: [frame_group_number, frame_number, layer_number, sequence_number, packet_start_interm_end_mark, if lost then False else True]\n",
    "# Constants: [skip_cadence, skip_set_frames_count]\n",
    "# Metadata: [frame_number, sequence_number, rewritten_sequence_number,]\n",
    "# Obtained directly from packet headers: [frame_number, layer_number, sequence_number, packet_start_interm_end_mark]\n",
    "# Obtained indirectly from packet headers: [max_dropped_frame]\n",
    "# State per receive stream in SR-LR: [max_frame_number, max_frame_start_sequence_number, max_frame_max_sequence_number,\n",
    "#                            max_frame_end_seen, drop_count]\n",
    "# State per receive stream in SR-LM: [max_frame_number, max_frame_max_sequence_number, drop_count]\n",
    "\n",
    "def solution_type4(packets_in):\n",
    "    \n",
    "    packets_out_ = []\n",
    "    drop_count = 0\n",
    "    max_frame_number = 0\n",
    "    max_dropped_frame = 0\n",
    "    SKIP_CADENCE = 2\n",
    "    SKIP_SET_FRAMES_COUNT = 1\n",
    "    \n",
    "    for gn, fn, ln, sn, rn, mk, pr in packets_in:\n",
    "\n",
    "        # If packet is lost, it's not seen by the algorithm\n",
    "        if not pr:\n",
    "            packet_out_ = [gn, fn, ln, sn, rn, -1, mk, False]\n",
    "            packets_out_.append(packet_out_)\n",
    "            continue\n",
    "\n",
    "        # If packet is suppressed during replication, it's not seen by the algorithm\n",
    "        if fn % SKIP_CADENCE == 0:\n",
    "            packet_out_ = [gn, fn, ln, sn, rn, -1, mk, True]\n",
    "            packets_out_.append(packet_out_)\n",
    "            continue\n",
    "\n",
    "        # Obtained from a match-action table in the control plane\n",
    "        max_dropped_frame = (fn // SKIP_CADENCE) * SKIP_CADENCE\n",
    "\n",
    "        # First packet\n",
    "        if fn > 1 and max_frame_number == 0:\n",
    "            max_frame_number = fn\n",
    "            srn = sn\n",
    "\n",
    "        # In the same frame\n",
    "        elif fn == max_frame_number:\n",
    "            srn = sn - drop_count\n",
    "\n",
    "        # Moved to the next consecutive frame\n",
    "        elif fn == max_frame_number + 1:\n",
    "            max_frame_number = fn\n",
    "            srn = sn - drop_count\n",
    "\n",
    "        # Skipped to a future frame\n",
    "        elif fn > max_frame_number + 1:\n",
    "            # Only one set of dropped frames have been encountered\n",
    "            if fn - max_frame_number == SKIP_CADENCE:\n",
    "                # Most conservative estimate of drop_count\n",
    "                drop_count += 3 * SKIP_SET_FRAMES_COUNT\n",
    "            # Multiple sets of dropped frames have been encountered\n",
    "            else:\n",
    "                num_dropped_sets = (fn - max_frame_number)//SKIP_CADENCE\n",
    "                # Most conservative estimate of drop_count\n",
    "                drop_count += 3 * num_dropped_sets * SKIP_SET_FRAMES_COUNT\n",
    "            max_frame_number = fn\n",
    "            srn = sn - drop_count\n",
    "\n",
    "        # Skipped to a past frame\n",
    "        elif fn < max_frame_number:\n",
    "            # No updates to state\n",
    "            srn = sn - drop_count\n",
    "        \n",
    "        packet_out_ = [gn, fn, ln, sn, rn, srn, mk, True]\n",
    "        packets_out_.append(packet_out_)\n",
    "        \n",
    "        # print(f\"Packet out: {packet_out_}, drop count: {drop_count}, max frame: {max_frame}, max frame layer: {max_frame_layer},\"\n",
    "        #       + f\" max frame start: {max_frame_start_sn}, max frame max: {max_frame_max_sn}, max frame end seen: {max_frame_end_seen}\")\n",
    "                \n",
    "    return packets_out_"
   ]
  },
  {
   "cell_type": "markdown",
   "id": "055607e9-b0ee-486b-af88-4a1f5d91fb63",
   "metadata": {},
   "source": [
    "### Lower memory, higher retx. penalty implementation"
   ]
  },
  {
   "cell_type": "code",
   "execution_count": null,
   "id": "74795e09-9c1e-4447-9a06-2e73c534101a",
   "metadata": {
    "editable": true,
    "execution": {
     "iopub.execute_input": "2025-06-25T09:52:43.724133Z",
     "iopub.status.busy": "2025-06-25T09:52:43.723706Z",
     "iopub.status.idle": "2025-06-25T09:52:43.733917Z",
     "shell.execute_reply": "2025-06-25T09:52:43.732908Z",
     "shell.execute_reply.started": "2025-06-25T09:52:43.724102Z"
    },
    "slideshow": {
     "slide_type": ""
    },
    "tags": []
   },
   "outputs": [],
   "source": [
    "# Packet format: [frame_group_number, frame_number, layer_number, sequence_number, packet_start_interm_end_mark, if lost then False else True]\n",
    "# Constants: [skip_cadence, skip_set_frames_count]\n",
    "# Metadata: [frame_number, sequence_number, rewritten_sequence_number,]\n",
    "# Obtained directly from packet headers: [frame_number, layer_number, sequence_number, packet_start_interm_end_mark]\n",
    "# Obtained indirectly from packet headers: [max_dropped_frame]\n",
    "# State per receive stream in SR-LR: [max_frame_number, max_frame_start_sequence_number, max_frame_max_sequence_number,\n",
    "#                            max_frame_end_seen, drop_count]\n",
    "# State per receive stream in SR-LM: [max_frame_number, max_frame_max_sequence_number, drop_count]\n",
    "\n",
    "def solution_type5(packets_in):\n",
    "    \n",
    "    packets_out_ = []\n",
    "    drop_count = 0\n",
    "    max_frame_number = 0\n",
    "    SKIP_CADENCE = 2\n",
    "    SKIP_SET_FRAMES_COUNT = 1\n",
    "    \n",
    "    for gn, fn, ln, sn, rn, mk, pr in packets_in:\n",
    "\n",
    "        # If packet is lost, it's not seen by the algorithm\n",
    "        if not pr:\n",
    "            packet_out_ = [gn, fn, ln, sn, rn, -1, mk, False]\n",
    "            packets_out_.append(packet_out_)\n",
    "            continue\n",
    "\n",
    "        # If packet is suppressed during replication, it's not seen by the algorithm\n",
    "        if fn % SKIP_CADENCE == 0:\n",
    "            packet_out_ = [gn, fn, ln, sn, rn, -1, mk, True]\n",
    "            packets_out_.append(packet_out_)\n",
    "            continue\n",
    "\n",
    "        # First packet\n",
    "        if fn > 1 and max_frame_number == 0:\n",
    "            max_frame_number = fn\n",
    "            srn = sn\n",
    "\n",
    "        # In the same frame\n",
    "        elif fn == max_frame_number:\n",
    "            srn = sn - drop_count\n",
    "\n",
    "        # Moved to the next consecutive frame\n",
    "        elif fn == max_frame_number + 1:\n",
    "            max_frame_number = fn\n",
    "            srn = sn - drop_count\n",
    "\n",
    "        # Skipped to a future frame\n",
    "        elif fn > max_frame_number + 1:\n",
    "            # Only one set of dropped frames have been encountered\n",
    "            if fn - max_frame_number == SKIP_CADENCE:\n",
    "                # Most conservative estimate of drop_count\n",
    "                drop_count += 3 * SKIP_SET_FRAMES_COUNT\n",
    "            # Multiple sets of dropped frames have been encountered\n",
    "            else:\n",
    "                num_dropped_sets = (fn - max_frame_number)//SKIP_CADENCE\n",
    "                # Most conservative estimate of drop_count\n",
    "                drop_count += 3 * num_dropped_sets * SKIP_SET_FRAMES_COUNT\n",
    "            max_frame_number = fn\n",
    "            srn = sn - drop_count\n",
    "\n",
    "        # Skipped to a past frame\n",
    "        elif fn < max_frame_number:\n",
    "            # No updates to state\n",
    "            srn = sn - drop_count\n",
    "        \n",
    "        packet_out_ = [gn, fn, ln, sn, rn, srn, mk, True]\n",
    "        packets_out_.append(packet_out_)\n",
    "        \n",
    "        # print(f\"Packet out: {packet_out_}, drop count: {drop_count}, max frame: {max_frame}, max frame layer: {max_frame_layer},\"\n",
    "        #       + f\" max frame start: {max_frame_start_sn}, max frame max: {max_frame_max_sn}, max frame end seen: {max_frame_end_seen}\")\n",
    "                \n",
    "    return packets_out_"
   ]
  },
  {
   "cell_type": "code",
   "execution_count": null,
   "id": "dc3393bb-e6fa-49d0-bfe4-3d1a123ec293",
   "metadata": {
    "execution": {
     "iopub.execute_input": "2025-06-25T10:00:00.229492Z",
     "iopub.status.busy": "2025-06-25T10:00:00.229104Z",
     "iopub.status.idle": "2025-06-25T10:00:00.242339Z",
     "shell.execute_reply": "2025-06-25T10:00:00.241373Z",
     "shell.execute_reply.started": "2025-06-25T10:00:00.229468Z"
    },
    "tags": []
   },
   "outputs": [],
   "source": [
    "# Packet format: [frame_group_number, frame_number, layer_number, sequence_number, packet_start_interm_end_mark, if lost then False else True]\n",
    "# Constants: [skip_cadence, skip_set_frames_count]\n",
    "# Metadata: [frame_number, sequence_number, rewritten_sequence_number,]\n",
    "# State per receive stream: [max_frame_number, max_frame_start_sequence_number, max_frame_max_sequence_number,\n",
    "#                            max_frame_end_seen, drop_count, max_dropped_frame]\n",
    "\n",
    "def solution_type6(packets_in, drop_when_unsure=False):\n",
    "    \n",
    "    packets_out_ = []\n",
    "    drop_count = 0\n",
    "    max_frame_number = 0\n",
    "    # max_frame_layer = 0\n",
    "    max_frame_start_sn = 0\n",
    "    max_frame_max_sn = 0\n",
    "    max_frame_end_seen = False\n",
    "    max_dropped_frame = 0\n",
    "    SKIP_CADENCE = 2\n",
    "    SKIP_SET_FRAMES_COUNT = 1\n",
    "    \n",
    "    for gn, fn, ln, sn, rn, mk, pr in packets_in:\n",
    "\n",
    "        # If packet is lost, it's not seen by the algorithm\n",
    "        if not pr:\n",
    "            packet_out_ = [gn, fn, ln, sn, rn, -1, mk, False]\n",
    "            packets_out_.append(packet_out_)\n",
    "            continue\n",
    "\n",
    "        # If packet is suppressed during replication, it's not seen by the algorithm\n",
    "        if fn % SKIP_CADENCE == 0:\n",
    "            packet_out_ = [gn, fn, ln, sn, rn, -1, mk, True]\n",
    "            packets_out_.append(packet_out_)\n",
    "            continue\n",
    "\n",
    "        max_dropped_frame = (fn // SKIP_CADENCE) * SKIP_CADENCE\n",
    "\n",
    "        # First packet\n",
    "        if fn > 1 and max_frame_number == 0:\n",
    "            max_frame_number = fn\n",
    "            \n",
    "            if mk == 1:\n",
    "                max_frame_start_sn = sn\n",
    "            else:\n",
    "                # If the first packet is not the starting packet of a frame, assume the previous packet was\n",
    "                max_frame_start_sn = sn - 1\n",
    "            \n",
    "            if mk == 3:\n",
    "                max_frame_max_sn = sn\n",
    "            else:\n",
    "                max_frame_max_sn = sn + 1\n",
    "            \n",
    "            srn = sn\n",
    "            \n",
    "            if mk == 3:\n",
    "                max_frame_end_seen = True\n",
    "\n",
    "        # In the same frame\n",
    "        elif fn == max_frame_number:\n",
    "            \n",
    "            if mk == 1:\n",
    "                max_frame_start_sn = sn\n",
    "            elif sn == max_frame_start_sn:\n",
    "                # This packet is not the starting packet but is set equal to max starting sequence number\n",
    "                max_frame_start_sn = sn - 1\n",
    "            \n",
    "            if mk == 3:\n",
    "                max_frame_max_sn = sn\n",
    "            elif not max_frame_end_seen:\n",
    "                max_frame_max_sn = sn + 1\n",
    "            # print(f\"max_frame_number: {max_frame}, max_frame_start_sn: {max_frame_start_sn}, max_frame_max_sn: {max_frame_max_sn}\")\n",
    "            \n",
    "            srn = sn - drop_count\n",
    "            \n",
    "            if mk == 3:\n",
    "                max_frame_end_seen = True\n",
    "\n",
    "        # Moved to the next consecutive frame\n",
    "        elif fn == max_frame_number + 1:\n",
    "            \n",
    "            max_frame_number = fn\n",
    "                \n",
    "            if mk == 1:\n",
    "                max_frame_start_sn = sn\n",
    "            else:\n",
    "                max_frame_start_sn = sn - 1\n",
    "            if mk == 3:\n",
    "                max_frame_max_sn = sn\n",
    "            else:\n",
    "                max_frame_max_sn = sn + 1\n",
    "\n",
    "            srn = sn - drop_count\n",
    "            \n",
    "            if mk == 3:\n",
    "                max_frame_end_seen = True\n",
    "            else:\n",
    "                max_frame_end_seen = False\n",
    "\n",
    "        # Skipped to a future frame\n",
    "        elif fn > max_frame_number + 1:\n",
    "\n",
    "            # Only one set of dropped frames have been encountered\n",
    "            if fn - max_frame_number == SKIP_CADENCE:\n",
    "                \n",
    "                # We saw the last packet of the previous retained frame and the first packet of the next retained frame\n",
    "                if max_frame_end_seen and mk == 1:\n",
    "                    drop_count += sn - max_frame_max_sn - 1\n",
    "                \n",
    "                # We either didn't see the last packet of the previous retained frame or didn't see the first packet of the next retained frame\n",
    "                # Unsure, so guessing the most conservative drop_count\n",
    "                else:\n",
    "                    drop_count += 3 * SKIP_SET_FRAMES_COUNT\n",
    "\n",
    "            # Multiple sets of dropped frames have been encountered\n",
    "            else:\n",
    "\n",
    "                num_dropped_sets = (fn - max_frame_number)//SKIP_CADENCE\n",
    "\n",
    "                # Most conservative estimate of drop_count\n",
    "                drop_count += 3 * num_dropped_sets * SKIP_SET_FRAMES_COUNT\n",
    "\n",
    "            max_frame_number = fn\n",
    "\n",
    "            if mk == 1:\n",
    "                max_frame_start_sn = sn\n",
    "            elif sn == max_frame_start_sn:\n",
    "                max_frame_start_sn = sn - 1\n",
    "            elif mk == 2:\n",
    "                max_frame_start_sn = sn - 1\n",
    "            elif mk == 3:\n",
    "                max_frame_start_sn = sn - 2\n",
    "                \n",
    "            if mk == 3:\n",
    "                max_frame_max_sn = sn\n",
    "            else:\n",
    "                max_frame_max_sn = sn + 1\n",
    "\n",
    "            srn = sn - drop_count\n",
    "\n",
    "            if mk == 3:\n",
    "                max_frame_end_seen = True\n",
    "            else:\n",
    "                max_frame_end_seen = False\n",
    "\n",
    "        # Skipped to a past frame\n",
    "        elif fn < max_frame_number:\n",
    "            \n",
    "            if fn + 1 == max_frame_number:\n",
    "                # No adjustments have been made to drop count\n",
    "                srn = sn - drop_count\n",
    "            \n",
    "            elif fn > max_dropped_frame:\n",
    "                # Can trust drop count because it hasn't been adjusted after this frame\n",
    "                srn = sn - drop_count\n",
    "                \n",
    "            else:\n",
    "                # We don't know anymore\n",
    "                if drop_when_unsure:\n",
    "                    srn = -1\n",
    "                else:\n",
    "                    srn = sn - drop_count\n",
    "        \n",
    "        packet_out_ = [gn, fn, ln, sn, rn, srn, mk, True]\n",
    "        packets_out_.append(packet_out_)\n",
    "        \n",
    "        # print(f\"Packet out: {packet_out_}, drop count: {drop_count}, max frame: {max_frame}, max frame layer: {max_frame_layer},\"\n",
    "        #       + f\" max frame start: {max_frame_start_sn}, max frame max: {max_frame_max_sn}, max frame end seen: {max_frame_end_seen}\")\n",
    "                \n",
    "    return packets_out_"
   ]
  },
  {
   "cell_type": "markdown",
   "id": "e2ff0574-0a6d-4eec-99b9-2ed3c566cab4",
   "metadata": {},
   "source": [
    "## Hardware-amenable sequence number-rewriting heuristics used in Scallop"
   ]
  },
  {
   "cell_type": "markdown",
   "id": "5157adff-3521-486b-a084-2a759a05708c",
   "metadata": {},
   "source": [
    "### Sequence Rewriting - Low Memory (SR-LM)"
   ]
  },
  {
   "cell_type": "code",
   "execution_count": null,
   "id": "8d47a1c3-e961-4a1c-961d-4180bbffa947",
   "metadata": {
    "execution": {
     "iopub.execute_input": "2025-06-25T10:00:01.821365Z",
     "iopub.status.busy": "2025-06-25T10:00:01.820963Z",
     "iopub.status.idle": "2025-06-25T10:00:01.824664Z",
     "shell.execute_reply": "2025-06-25T10:00:01.824000Z",
     "shell.execute_reply.started": "2025-06-25T10:00:01.821342Z"
    }
   },
   "outputs": [],
   "source": [
    "def scallop_sr_lm(packets_in):\n",
    "    return solution_type5(packets_in)"
   ]
  },
  {
   "cell_type": "markdown",
   "id": "73d10d98-d476-4b97-a704-66c4080c66cd",
   "metadata": {},
   "source": [
    "### Sequence Rewriting - Low Retransmission (SR-LR)"
   ]
  },
  {
   "cell_type": "code",
   "execution_count": null,
   "id": "67344487-4d0e-461c-aaaf-53df2758cd66",
   "metadata": {
    "execution": {
     "iopub.execute_input": "2025-06-25T10:00:02.237171Z",
     "iopub.status.busy": "2025-06-25T10:00:02.236895Z",
     "iopub.status.idle": "2025-06-25T10:00:02.240307Z",
     "shell.execute_reply": "2025-06-25T10:00:02.239753Z",
     "shell.execute_reply.started": "2025-06-25T10:00:02.237150Z"
    }
   },
   "outputs": [],
   "source": [
    "def scallop_sr_lr(packets_in):\n",
    "    return solution_type6(packets_in, drop_when_unsure=False)"
   ]
  },
  {
   "cell_type": "markdown",
   "id": "cf17ae3f-28f4-4ac2-a7cf-7ce7cafb834b",
   "metadata": {},
   "source": [
    "## Validation"
   ]
  },
  {
   "cell_type": "code",
   "execution_count": null,
   "id": "8bc4cf01-61e9-4b07-8e58-a43846b65688",
   "metadata": {
    "execution": {
     "iopub.execute_input": "2025-06-25T10:00:02.573814Z",
     "iopub.status.busy": "2025-06-25T10:00:02.573451Z",
     "iopub.status.idle": "2025-06-25T10:00:02.577220Z",
     "shell.execute_reply": "2025-06-25T10:00:02.576531Z",
     "shell.execute_reply.started": "2025-06-25T10:00:02.573793Z"
    }
   },
   "outputs": [],
   "source": [
    "def report_sanity_check_results(packets_in, packets_out):\n",
    "    if len([p for p in packets_in if p[6]]) != len([p for p in packets_out if p[7]]):\n",
    "        print(\"ERROR: All packets that went in didn't come out!\")"
   ]
  },
  {
   "cell_type": "code",
   "execution_count": null,
   "id": "68c740f5-2fd5-4298-b8b0-b6bb8cfa331b",
   "metadata": {
    "execution": {
     "iopub.execute_input": "2025-06-25T10:00:02.749557Z",
     "iopub.status.busy": "2025-06-25T10:00:02.749260Z",
     "iopub.status.idle": "2025-06-25T10:00:02.753549Z",
     "shell.execute_reply": "2025-06-25T10:00:02.752842Z",
     "shell.execute_reply.started": "2025-06-25T10:00:02.749523Z"
    }
   },
   "outputs": [],
   "source": [
    "def compute_extra_drops(packets_out):\n",
    "    extra_drops = 0\n",
    "    for gn, fn, ln, sn, rn, srn, mk, pr in packets_out:\n",
    "        if pr and rn > -1 and srn == -1:\n",
    "            extra_drops += 1\n",
    "    print(f\"Extra drops: {extra_drops}\")\n",
    "    return extra_drops*100.0/PACKETS_COUNT"
   ]
  },
  {
   "cell_type": "code",
   "execution_count": null,
   "id": "c0b118d7-fa56-425d-91e2-add5c40239f3",
   "metadata": {
    "execution": {
     "iopub.execute_input": "2025-06-25T10:00:02.928837Z",
     "iopub.status.busy": "2025-06-25T10:00:02.928560Z",
     "iopub.status.idle": "2025-06-25T10:00:02.934333Z",
     "shell.execute_reply": "2025-06-25T10:00:02.933748Z",
     "shell.execute_reply.started": "2025-06-25T10:00:02.928816Z"
    }
   },
   "outputs": [],
   "source": [
    "def compute_extra_retransmissions(packets_out, exit_on_error=True):\n",
    "\n",
    "    def count_skips(seqnums):\n",
    "        skips = 0\n",
    "        last_nonzero_seqnum = -1\n",
    "        for seqnum in seqnums:\n",
    "            if last_nonzero_seqnum > -1:\n",
    "                skips += seqnum - last_nonzero_seqnum - 1\n",
    "            last_nonzero_seqnum = seqnum\n",
    "        return skips\n",
    "    \n",
    "    # Compute lost packets based on original sequence number\n",
    "    actual_loss = count_skips([p[4] for p in packets_out if p[7] and p[4] > -1])\n",
    "\n",
    "    # Compute lost packets based on rewritten sequence number\n",
    "    receiver_observed_loss = count_skips([p[5] for p in packets_out if p[7] and p[5] > -1])\n",
    "\n",
    "    retx_pct = (receiver_observed_loss - actual_loss)*100.0/PACKETS_COUNT\n",
    "    print(f\"Extra retransmissions: {receiver_observed_loss} - {actual_loss} = {receiver_observed_loss - actual_loss} ({round(retx_pct, 4)}%)\")\n",
    "            \n",
    "    return (receiver_observed_loss - actual_loss)/PACKETS_COUNT"
   ]
  },
  {
   "cell_type": "code",
   "execution_count": null,
   "id": "37d6d28e-b972-47f8-959b-0259633a9948",
   "metadata": {
    "execution": {
     "iopub.execute_input": "2025-06-25T10:00:03.069341Z",
     "iopub.status.busy": "2025-06-25T10:00:03.069064Z",
     "iopub.status.idle": "2025-06-25T10:00:03.073262Z",
     "shell.execute_reply": "2025-06-25T10:00:03.072655Z",
     "shell.execute_reply.started": "2025-06-25T10:00:03.069321Z"
    }
   },
   "outputs": [],
   "source": [
    "def report_aggresive_rewrites(packets_out):\n",
    "    print(\"Aggresive rewrites:\\n\")\n",
    "    count_agg_rewrites = 0\n",
    "    for gn, fn, ln, sn, rn, srn, mk, pr in packets_out:\n",
    "        if pr and rn > srn and srn > -1:\n",
    "            count_agg_rewrites += 1\n",
    "            print([gn, fn, ln, sn, rn, srn, mk, pr])\n",
    "    return count_agg_rewrites*100.0/PACKETS_COUNT"
   ]
  },
  {
   "cell_type": "code",
   "execution_count": null,
   "id": "2b8afe80-03a4-4b51-b66a-d40b54b855d5",
   "metadata": {
    "execution": {
     "iopub.execute_input": "2025-06-25T10:00:03.247301Z",
     "iopub.status.busy": "2025-06-25T10:00:03.247014Z",
     "iopub.status.idle": "2025-06-25T10:00:03.251669Z",
     "shell.execute_reply": "2025-06-25T10:00:03.251017Z",
     "shell.execute_reply.started": "2025-06-25T10:00:03.247280Z"
    }
   },
   "outputs": [],
   "source": [
    "def report_sequence_number_order_violations(packets_out):\n",
    "    print(\"Original sequence number order violated:\\n\")\n",
    "    packets_ordered_by_rn = sorted([p for p in packets_out if p[5] > -1], key=lambda x: x[4])\n",
    "    packets_ordered_by_srn = sorted([p for p in packets_out if p[5] > -1], key=lambda x: x[5])\n",
    "    if packets_ordered_by_rn != packets_ordered_by_srn:\n",
    "        for p1, p2 in zip(packets_ordered_by_rn, packets_ordered_by_srn):\n",
    "            if p1 != p2:\n",
    "                print(f\"{p1} compared to {p2}\")"
   ]
  },
  {
   "cell_type": "code",
   "execution_count": null,
   "id": "9c7f3121-c4f5-4b1d-85ef-dd34e04b9d5d",
   "metadata": {
    "execution": {
     "iopub.execute_input": "2025-06-25T10:00:03.447533Z",
     "iopub.status.busy": "2025-06-25T10:00:03.447230Z",
     "iopub.status.idle": "2025-06-25T10:00:03.452554Z",
     "shell.execute_reply": "2025-06-25T10:00:03.451923Z",
     "shell.execute_reply.started": "2025-06-25T10:00:03.447511Z"
    }
   },
   "outputs": [],
   "source": [
    "def report_repeats(packets_out):\n",
    "    print(\"Repeated rewritten sequence numbers:\\n\")\n",
    "    reference_sequence_counts = Counter(p[4] for p in packets_out)\n",
    "    rewritten_sequence_counts = Counter(p[5] for p in packets_out)\n",
    "    \n",
    "    repeated_seqnums_in_reference = [(k, v) for k, v in reference_sequence_counts.items() if k > -1 and v > 1]\n",
    "    repeated_seqnums_in_rewritten = [(k, v) for k, v in rewritten_sequence_counts.items() if k > -1 and v > 1]\n",
    "    \n",
    "    repeats_in_reference = sorted([v for k, v in repeated_seqnums_in_reference])\n",
    "    repeats_in_rewritten = sorted([v for k, v in repeated_seqnums_in_rewritten])\n",
    "    \n",
    "    if repeats_in_reference != repeats_in_rewritten:\n",
    "        print(\"Repeats mismatch!\")\n",
    "    \n",
    "    print(\"\\nRepeats in reference:\\n\")\n",
    "    for p in repeated_seqnums_in_reference:\n",
    "        print(p)\n",
    "    print(\"\\nRepeats in rewritten:\\n\")\n",
    "    for p in repeated_seqnums_in_rewritten:\n",
    "        print(p)"
   ]
  },
  {
   "cell_type": "code",
   "execution_count": null,
   "id": "52ce4ea6-b15b-49ec-84d6-a38a0aa0dc7b",
   "metadata": {
    "execution": {
     "iopub.execute_input": "2025-06-25T10:00:03.607635Z",
     "iopub.status.busy": "2025-06-25T10:00:03.607336Z",
     "iopub.status.idle": "2025-06-25T10:00:03.611215Z",
     "shell.execute_reply": "2025-06-25T10:00:03.610622Z",
     "shell.execute_reply.started": "2025-06-25T10:00:03.607611Z"
    }
   },
   "outputs": [],
   "source": [
    "def report_mismatches(packets_out):\n",
    "    print(\"Mismatches:\\n\")\n",
    "    for gn, fn, ln, sn, rn, srn, mk, pr in packets_out:\n",
    "        if rn != srn and srn > -1:\n",
    "            print([gn, fn, ln, sn, rn, srn, mk])"
   ]
  },
  {
   "cell_type": "code",
   "execution_count": null,
   "id": "c1523ddb-68dd-49b0-bec0-fccbf846376e",
   "metadata": {
    "execution": {
     "iopub.execute_input": "2025-06-25T10:00:03.799316Z",
     "iopub.status.busy": "2025-06-25T10:00:03.798984Z",
     "iopub.status.idle": "2025-06-25T10:00:03.802516Z",
     "shell.execute_reply": "2025-06-25T10:00:03.801869Z",
     "shell.execute_reply.started": "2025-06-25T10:00:03.799291Z"
    }
   },
   "outputs": [],
   "source": [
    "LOSS_PROB = None\n",
    "REORDER_PROB = 0.0\n",
    "REORDER_MAX_SKIP = 5\n",
    "# REORDER_SHUFFLE = False\n",
    "DROP_WHEN_UNSURE = False"
   ]
  },
  {
   "cell_type": "code",
   "execution_count": null,
   "id": "d9054823-8782-4694-b6fa-cb3e4aaa259f",
   "metadata": {
    "execution": {
     "iopub.execute_input": "2025-06-25T10:03:29.651047Z",
     "iopub.status.busy": "2025-06-25T10:03:29.650719Z",
     "iopub.status.idle": "2025-06-25T10:03:29.655607Z",
     "shell.execute_reply": "2025-06-25T10:03:29.654914Z",
     "shell.execute_reply.started": "2025-06-25T10:03:29.651022Z"
    }
   },
   "outputs": [],
   "source": [
    "if LOSS_PROB is None:\n",
    "    LOSS_PROB_SWEEPSPACE = [i/100 for i in list(range(0, 100, 1))]\n",
    "    print(f\"Loss prob sweep space: {LOSS_PROB_SWEEPSPACE}\")\n",
    "else:\n",
    "    LOSS_PROB_SWEEPSPACE = []"
   ]
  },
  {
   "cell_type": "code",
   "execution_count": null,
   "id": "0f33456d-4e71-400e-97a7-89f0842d5d63",
   "metadata": {
    "execution": {
     "iopub.execute_input": "2025-06-25T10:00:04.296486Z",
     "iopub.status.busy": "2025-06-25T10:00:04.295592Z",
     "iopub.status.idle": "2025-06-25T10:00:04.300112Z",
     "shell.execute_reply": "2025-06-25T10:00:04.299288Z",
     "shell.execute_reply.started": "2025-06-25T10:00:04.296460Z"
    }
   },
   "outputs": [],
   "source": [
    "SOLUTION_TYPE = 5 # Hardware-amenable (S-LR)"
   ]
  },
  {
   "cell_type": "code",
   "execution_count": null,
   "id": "1bb2a3aa-eb88-43eb-a80d-48aab8263a9a",
   "metadata": {
    "execution": {
     "iopub.execute_input": "2025-06-25T10:00:04.512315Z",
     "iopub.status.busy": "2025-06-25T10:00:04.511920Z",
     "iopub.status.idle": "2025-06-25T10:00:04.517838Z",
     "shell.execute_reply": "2025-06-25T10:00:04.516988Z",
     "shell.execute_reply.started": "2025-06-25T10:00:04.512282Z"
    }
   },
   "outputs": [],
   "source": [
    "if LOSS_PROB:\n",
    "    packets_in, packets_lost, packets_reordered = simulate_loss_and_reordering(LOSS_PROB, REORDER_PROB, REORDER_MAX_SKIP)\n",
    "    if SOLUTION_TYPE == 4:\n",
    "        packets_out = solution_type4(packets_in, DROP_WHEN_UNSURE)\n",
    "    elif SOLUTION_TYPE == 5:\n",
    "        packets_out = solution_type5(packets_in)\n",
    "    elif SOLUTION_TYPE == 6:\n",
    "        packets_out = solution_type6(packets_in, DROP_WHEN_UNSURE)\n",
    "    elif SOLUTION_TYPE == 2:\n",
    "        packets_out = solution_type2(packets_in)\n",
    "    else:\n",
    "        packets_out = []\n",
    "    report_sanity_check_results(packets_in, packets_out)\n",
    "    extra_drop_pct = compute_extra_drops(packets_out)\n",
    "    extra_retx_pct = compute_extra_retransmissions(packets_out, exit_on_error=False)"
   ]
  },
  {
   "cell_type": "code",
   "execution_count": null,
   "id": "eab047d1-c619-4b1e-9de3-a3368374e285",
   "metadata": {
    "execution": {
     "iopub.execute_input": "2025-06-25T10:00:04.655665Z",
     "iopub.status.busy": "2025-06-25T10:00:04.655337Z",
     "iopub.status.idle": "2025-06-25T10:00:04.660185Z",
     "shell.execute_reply": "2025-06-25T10:00:04.659059Z",
     "shell.execute_reply.started": "2025-06-25T10:00:04.655639Z"
    },
    "scrolled": true
   },
   "outputs": [],
   "source": [
    "if LOSS_PROB:\n",
    "    print(\"\\nPackets in:\")\n",
    "    for p in packets_in:\n",
    "        print(p)"
   ]
  },
  {
   "cell_type": "code",
   "execution_count": null,
   "id": "e3351b02-cf41-4908-b2e3-98dbe0955ddf",
   "metadata": {
    "execution": {
     "iopub.execute_input": "2025-06-25T10:00:04.895973Z",
     "iopub.status.busy": "2025-06-25T10:00:04.895595Z",
     "iopub.status.idle": "2025-06-25T10:00:04.900094Z",
     "shell.execute_reply": "2025-06-25T10:00:04.899166Z",
     "shell.execute_reply.started": "2025-06-25T10:00:04.895943Z"
    },
    "scrolled": true
   },
   "outputs": [],
   "source": [
    "if LOSS_PROB:\n",
    "    print(\"\\nPackets out:\")\n",
    "    for p in packets_out:\n",
    "        print(p)"
   ]
  },
  {
   "cell_type": "code",
   "execution_count": null,
   "id": "53586f47-ac6c-435b-b07a-95e19e3220ff",
   "metadata": {
    "execution": {
     "iopub.execute_input": "2025-06-25T10:00:05.083145Z",
     "iopub.status.busy": "2025-06-25T10:00:05.082778Z",
     "iopub.status.idle": "2025-06-25T10:00:05.086906Z",
     "shell.execute_reply": "2025-06-25T10:00:05.085856Z",
     "shell.execute_reply.started": "2025-06-25T10:00:05.083116Z"
    },
    "scrolled": true
   },
   "outputs": [],
   "source": [
    "if LOSS_PROB:\n",
    "    report_aggresive_rewrites(packets_out)"
   ]
  },
  {
   "cell_type": "code",
   "execution_count": null,
   "id": "9aac902d-7f2e-46ff-88ff-5e4d0941d001",
   "metadata": {
    "execution": {
     "iopub.execute_input": "2025-06-25T10:00:05.238087Z",
     "iopub.status.busy": "2025-06-25T10:00:05.237768Z",
     "iopub.status.idle": "2025-06-25T10:00:05.241570Z",
     "shell.execute_reply": "2025-06-25T10:00:05.240830Z",
     "shell.execute_reply.started": "2025-06-25T10:00:05.238063Z"
    },
    "scrolled": true
   },
   "outputs": [],
   "source": [
    "if LOSS_PROB:\n",
    "    report_sequence_number_order_violations(packets_out)"
   ]
  },
  {
   "cell_type": "code",
   "execution_count": null,
   "id": "0030a767-18ce-4f3d-887b-ee886aca1fb9",
   "metadata": {
    "execution": {
     "iopub.execute_input": "2025-06-25T10:00:05.427606Z",
     "iopub.status.busy": "2025-06-25T10:00:05.427234Z",
     "iopub.status.idle": "2025-06-25T10:00:05.431195Z",
     "shell.execute_reply": "2025-06-25T10:00:05.430176Z",
     "shell.execute_reply.started": "2025-06-25T10:00:05.427577Z"
    },
    "scrolled": true
   },
   "outputs": [],
   "source": [
    "if LOSS_PROB:\n",
    "    report_repeats(packets_out)"
   ]
  },
  {
   "cell_type": "code",
   "execution_count": null,
   "id": "28fe398c-1b80-4789-8276-0d532a785962",
   "metadata": {
    "execution": {
     "iopub.execute_input": "2025-06-25T10:00:05.576247Z",
     "iopub.status.busy": "2025-06-25T10:00:05.575911Z",
     "iopub.status.idle": "2025-06-25T10:00:05.579561Z",
     "shell.execute_reply": "2025-06-25T10:00:05.578873Z",
     "shell.execute_reply.started": "2025-06-25T10:00:05.576221Z"
    },
    "scrolled": true
   },
   "outputs": [],
   "source": [
    "if LOSS_PROB:\n",
    "    report_mismatches(packets_out)"
   ]
  },
  {
   "cell_type": "code",
   "execution_count": null,
   "id": "8c2056f3-0545-45b7-897c-f3c50be04477",
   "metadata": {
    "execution": {
     "iopub.execute_input": "2025-06-25T10:00:05.752041Z",
     "iopub.status.busy": "2025-06-25T10:00:05.751675Z",
     "iopub.status.idle": "2025-06-25T10:00:06.355465Z",
     "shell.execute_reply": "2025-06-25T10:00:06.354751Z",
     "shell.execute_reply.started": "2025-06-25T10:00:05.752006Z"
    },
    "scrolled": true
   },
   "outputs": [],
   "source": [
    "extra_drops = []\n",
    "extra_retxs = []\n",
    "\n",
    "for loss_prob in LOSS_PROB_SWEEPSPACE:\n",
    "    packets_in, _, _ = simulate_loss_and_reordering(loss_prob, REORDER_PROB, REORDER_MAX_SKIP)\n",
    "    \n",
    "    if SOLUTION_TYPE == 0:\n",
    "        packets_out = solution_type0(packets_in)\n",
    "    elif SOLUTION_TYPE == 1:\n",
    "        packets_out = solution_type1(packets_in)\n",
    "    elif SOLUTION_TYPE == 2:\n",
    "        packets_out = solution_type2(packets_in)\n",
    "    elif SOLUTION_TYPE == 3:\n",
    "        packets_out = solution_type3(packets_in, DROP_WHEN_UNSURE)\n",
    "    elif SOLUTION_TYPE == 4:\n",
    "        packets_out = solution_type4(packets_in, DROP_WHEN_UNSURE)\n",
    "    elif SOLUTION_TYPE == 5:\n",
    "        packets_out = solution_type5(packets_in)\n",
    "    elif SOLUTION_TYPE == 6:\n",
    "        packets_out = solution_type6(packets_in, DROP_WHEN_UNSURE)\n",
    "\n",
    "    report_sanity_check_results(packets_in, packets_out)\n",
    "    extra_drop_pct = compute_extra_drops(packets_out)\n",
    "    extra_retx_frc = compute_extra_retransmissions(packets_out)\n",
    "    print()\n",
    "\n",
    "    extra_drops.append(extra_drop_pct)\n",
    "    extra_retxs.append(extra_retx_frc)"
   ]
  },
  {
   "cell_type": "code",
   "execution_count": null,
   "id": "ddfb24f4-fd54-47b6-b459-63aafdc44c64",
   "metadata": {
    "execution": {
     "iopub.execute_input": "2025-06-25T10:00:06.357019Z",
     "iopub.status.busy": "2025-06-25T10:00:06.356754Z",
     "iopub.status.idle": "2025-06-25T10:00:06.361627Z",
     "shell.execute_reply": "2025-06-25T10:00:06.360498Z",
     "shell.execute_reply.started": "2025-06-25T10:00:06.356997Z"
    }
   },
   "outputs": [],
   "source": [
    "print(LOSS_PROB_SWEEPSPACE)"
   ]
  },
  {
   "cell_type": "code",
   "execution_count": null,
   "id": "eb4b81e2-ff95-4633-a7d3-e6a3759b57ec",
   "metadata": {
    "execution": {
     "iopub.execute_input": "2025-06-25T10:00:06.544622Z",
     "iopub.status.busy": "2025-06-25T10:00:06.544302Z",
     "iopub.status.idle": "2025-06-25T10:00:06.548530Z",
     "shell.execute_reply": "2025-06-25T10:00:06.547761Z",
     "shell.execute_reply.started": "2025-06-25T10:00:06.544597Z"
    }
   },
   "outputs": [],
   "source": [
    "print(extra_retxs)"
   ]
  },
  {
   "cell_type": "code",
   "execution_count": null,
   "id": "0ed8b7c0-3576-4590-a440-5a0cdcad0214",
   "metadata": {
    "execution": {
     "iopub.execute_input": "2025-06-25T10:00:06.743253Z",
     "iopub.status.busy": "2025-06-25T10:00:06.742926Z",
     "iopub.status.idle": "2025-06-25T10:00:06.747366Z",
     "shell.execute_reply": "2025-06-25T10:00:06.746659Z",
     "shell.execute_reply.started": "2025-06-25T10:00:06.743229Z"
    }
   },
   "outputs": [],
   "source": [
    "# From some previous reference implementation\n",
    "reference_loss_prob_sweepspace = [0.0, 0.05, 0.1, 0.15, 0.2, 0.25, 0.3, 0.35, 0.4, 0.45, 0.5, 0.55, 0.6, 0.65, 0.7, 0.75, 0.8, 0.85, 0.9, 0.95]\n",
    "reference_extra_retx_fractions = [0.0, 0.0002, 0.0022, 0.0079, 0.0128, 0.0185, 0.0274, 0.035, 0.0465, 0.059,\n",
    "                                  0.0764, 0.0942, 0.1168, 0.1382, 0.1664, 0.2061, 0.2456, 0.3009, 0.3645, 0.4282]"
   ]
  },
  {
   "cell_type": "code",
   "execution_count": null,
   "id": "744761d8-8e47-4079-8b8a-8074a3d60cf5",
   "metadata": {
    "execution": {
     "iopub.execute_input": "2025-06-25T10:00:06.903681Z",
     "iopub.status.busy": "2025-06-25T10:00:06.903367Z",
     "iopub.status.idle": "2025-06-25T10:00:07.771607Z",
     "shell.execute_reply": "2025-06-25T10:00:07.770910Z",
     "shell.execute_reply.started": "2025-06-25T10:00:06.903657Z"
    }
   },
   "outputs": [],
   "source": [
    "pu.lineplot(LOSS_PROB_SWEEPSPACE, extra_retxs, {\"xlabel\": \"Loss rate\", \"ylabel\": \"Err. retx. rate\", \"xlim\": (-0.05, 1.05)})"
   ]
  },
  {
   "cell_type": "code",
   "execution_count": null,
   "id": "b261fb5a-d8bb-4a0b-8090-bc243d0ad9f5",
   "metadata": {
    "execution": {
     "iopub.execute_input": "2025-06-25T10:00:07.773669Z",
     "iopub.status.busy": "2025-06-25T10:00:07.773344Z",
     "iopub.status.idle": "2025-06-25T10:00:07.778750Z",
     "shell.execute_reply": "2025-06-25T10:00:07.778051Z",
     "shell.execute_reply.started": "2025-06-25T10:00:07.773646Z"
    }
   },
   "outputs": [],
   "source": [
    "for x, y in zip(LOSS_PROB_SWEEPSPACE, extra_retxs):\n",
    "    print(f\"{x},{y}\")"
   ]
  },
  {
   "cell_type": "code",
   "execution_count": null,
   "id": "872862e8-c117-4e0f-8240-856a02edf216",
   "metadata": {
    "execution": {
     "iopub.execute_input": "2025-06-25T10:03:56.819952Z",
     "iopub.status.busy": "2025-06-25T10:03:56.819604Z",
     "iopub.status.idle": "2025-06-25T10:04:03.828366Z",
     "shell.execute_reply": "2025-06-25T10:04:03.827426Z",
     "shell.execute_reply.started": "2025-06-25T10:03:56.819925Z"
    },
    "scrolled": true
   },
   "outputs": [],
   "source": [
    "extra_drops = {\"S-LM\": [], \"S-LR\": []}\n",
    "extra_retxs = {\"S-LM\": [], \"S-LR\": []}\n",
    "\n",
    "for solution_type in [\"S-LM\", \"S-LR\"]:\n",
    "    for loss_prob in LOSS_PROB_SWEEPSPACE:\n",
    "        packets_in, _, _ = simulate_loss_and_reordering(loss_prob, REORDER_PROB, REORDER_MAX_SKIP)\n",
    "        \n",
    "        if solution_type == \"S-LM\":\n",
    "            packets_out = scallop_sr_lm(packets_in)\n",
    "        elif solution_type == \"S-LR\":\n",
    "            packets_out = scallop_sr_lr(packets_in)\n",
    "            \n",
    "        report_sanity_check_results(packets_in, packets_out)\n",
    "        extra_drop_pct = compute_extra_drops(packets_out)\n",
    "        extra_retx_frc = compute_extra_retransmissions(packets_out)\n",
    "        print()\n",
    "        \n",
    "        extra_drops[solution_type].append(extra_drop_pct)\n",
    "        extra_retxs[solution_type].append(extra_retx_frc)"
   ]
  },
  {
   "cell_type": "code",
   "execution_count": null,
   "id": "9808460a-7a8d-4563-a04a-6f16b609cde7",
   "metadata": {
    "execution": {
     "iopub.execute_input": "2025-06-25T10:04:11.206960Z",
     "iopub.status.busy": "2025-06-25T10:04:11.206589Z",
     "iopub.status.idle": "2025-06-25T10:04:12.266616Z",
     "shell.execute_reply": "2025-06-25T10:04:12.265860Z",
     "shell.execute_reply.started": "2025-06-25T10:04:11.206932Z"
    }
   },
   "outputs": [],
   "source": [
    "pu.lineplots([LOSS_PROB_SWEEPSPACE]*2, [extra_retxs[\"S-LM\"], extra_retxs[\"S-LR\"]],\n",
    "            {\"xlabel\": \"Loss rate\", \"ylabel\": \"Err. retx. rate\", \"xlim\": (-0.05, 1.05),\n",
    "            \"curvelabels\": [\"S-LM\", \"S-LR\"]})"
   ]
  },
  {
   "cell_type": "markdown",
   "id": "5f0afdf8-f0c8-4ec4-9109-469c344bbe46",
   "metadata": {},
   "source": [
    "<b>Notes:</b>\n",
    "1. <b>Reordering:</b> Trouble when a packet that needs to be dropped intentionally arrives before preceding packets that shouldn't be dropped intentionally.\n",
    "The drop counter gets incremented too soon and we get the reordered packet's sequence number wrong.\n",
    "It recovers quickly though, as soon as the packets affected by reordering have passed."
   ]
  }
 ],
 "metadata": {
  "kernelspec": {
   "display_name": "Python 3 (ipykernel)",
   "language": "python",
   "name": "python3"
  },
  "language_info": {
   "codemirror_mode": {
    "name": "ipython",
    "version": 3
   },
   "file_extension": ".py",
   "mimetype": "text/x-python",
   "name": "python",
   "nbconvert_exporter": "python",
   "pygments_lexer": "ipython3",
   "version": "3.13.5"
  }
 },
 "nbformat": 4,
 "nbformat_minor": 5
}
